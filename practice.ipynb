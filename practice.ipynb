{
 "cells": [
  {
   "cell_type": "code",
   "execution_count": 2,
   "id": "cd26b22d-57dd-45e3-becf-070a6fb2c178",
   "metadata": {},
   "outputs": [],
   "source": [
    "import numpy as np"
   ]
  },
  {
   "cell_type": "code",
   "execution_count": 3,
   "id": "80cd0b4a-0329-4c64-afdf-69585fe60d1a",
   "metadata": {},
   "outputs": [],
   "source": [
    "arr = np.array([[3,44,55,23]], np.int32)"
   ]
  },
  {
   "cell_type": "code",
   "execution_count": 4,
   "id": "97b84820-b84d-44e8-93b9-d7d06d1e4484",
   "metadata": {},
   "outputs": [
    {
     "data": {
      "text/plain": [
       "array([ 3, 44, 55, 23], dtype=int32)"
      ]
     },
     "execution_count": 4,
     "metadata": {},
     "output_type": "execute_result"
    }
   ],
   "source": [
    "arr[0]"
   ]
  },
  {
   "cell_type": "code",
   "execution_count": 5,
   "id": "cb87f3a3-ed89-4fb1-a851-50abeafe776c",
   "metadata": {},
   "outputs": [],
   "source": [
    "arr[0,1] = 99"
   ]
  },
  {
   "cell_type": "code",
   "execution_count": 6,
   "id": "bdaf1e62-6149-49fb-9721-9fe9c5e1c640",
   "metadata": {},
   "outputs": [
    {
     "data": {
      "text/plain": [
       "array([[ 3, 99, 55, 23]], dtype=int32)"
      ]
     },
     "execution_count": 6,
     "metadata": {},
     "output_type": "execute_result"
    }
   ],
   "source": [
    "arr"
   ]
  },
  {
   "cell_type": "code",
   "execution_count": null,
   "id": "6c8bc685-5d42-483a-bd22-98e3c1a07ffd",
   "metadata": {},
   "outputs": [],
   "source": []
  }
 ],
 "metadata": {
  "kernelspec": {
   "display_name": "Python 3 (ipykernel)",
   "language": "python",
   "name": "python3"
  },
  "language_info": {
   "codemirror_mode": {
    "name": "ipython",
    "version": 3
   },
   "file_extension": ".py",
   "mimetype": "text/x-python",
   "name": "python",
   "nbconvert_exporter": "python",
   "pygments_lexer": "ipython3",
   "version": "3.12.4"
  }
 },
 "nbformat": 4,
 "nbformat_minor": 5
}
