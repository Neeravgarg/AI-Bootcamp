{
 "cells": [
  {
   "cell_type": "markdown",
   "id": "8eaa45be",
   "metadata": {},
   "source": [
    "<font size=\"+3\">Module 28 - NLTK-Natural Language ToolKit</font>\n",
    "\n",
    "In this notebook, we are going to discuss how to use the natural language toolkit to process, analyse and gain insights about natural language."
   ]
  },
  {
   "cell_type": "markdown",
   "id": "23fa82c4",
   "metadata": {},
   "source": [
    "### Import NLTK"
   ]
  },
  {
   "cell_type": "code",
   "execution_count": 3,
   "id": "9ea9a6f8",
   "metadata": {},
   "outputs": [],
   "source": [
    "# import warnings to avoid any version warnings etc.\n",
    "import warnings\n",
    "warnings.filterwarnings(\"ignore\")"
   ]
  },
  {
   "cell_type": "code",
   "execution_count": 4,
   "id": "1b241330",
   "metadata": {},
   "outputs": [
    {
     "name": "stdout",
     "output_type": "stream",
     "text": [
      "I would like to walk more and more to  keep walking all the time improve my health and stay healthy and safe!\n"
     ]
    }
   ],
   "source": [
    "# import NLTK \n",
    "import nltk\n",
    "# A sentence as an example\n",
    "sent = \"I would like to walk more and more to  keep walking all the time improve my health and stay healthy and safe!\"\n",
    "print(sent)"
   ]
  },
  {
   "cell_type": "markdown",
   "id": "7ed85585",
   "metadata": {},
   "source": [
    "**<p style=\"font-family: Arial; font-size:1.4em;color:blue;\">Exercise: Sentence input  </p>**"
   ]
  },
  {
   "cell_type": "code",
   "execution_count": 6,
   "id": "e96f965a",
   "metadata": {},
   "outputs": [],
   "source": [
    "# Q1. Apply NLTK step-wise for the text input:\"I was interested in eating icecream, but it was raining , so I could not eat !\"\n"
   ]
  },
  {
   "cell_type": "code",
   "execution_count": 89,
   "id": "5b11060d",
   "metadata": {},
   "outputs": [
    {
     "name": "stdout",
     "output_type": "stream",
     "text": [
      "I was interested in eating icecream, but it was raining , so I could not eat !\n"
     ]
    },
    {
     "name": "stderr",
     "output_type": "stream",
     "text": [
      "[nltk_data] Error loading download all: Package 'download all' not\n",
      "[nltk_data]     found in index\n"
     ]
    }
   ],
   "source": [
    "# Solution:\n",
    "import nltk\n",
    "# A sentence as an example\n",
    "nltk.download('download all')\n",
    "sent1 = \"I was interested in eating icecream, but it was raining , so I could not eat !\"\n",
    "print(sent1)"
   ]
  },
  {
   "cell_type": "markdown",
   "id": "7d4b1564",
   "metadata": {},
   "source": [
    "### Tokenization"
   ]
  },
  {
   "cell_type": "code",
   "execution_count": 92,
   "id": "bd182ceb",
   "metadata": {},
   "outputs": [
    {
     "name": "stdout",
     "output_type": "stream",
     "text": [
      "['I', 'would', 'like', 'to', 'walk', 'more', 'and', 'more', 'to', 'keep', 'walking', 'all', 'the', 'time', 'improve', 'my', 'health', 'and', 'stay', 'healthy', 'and', 'safe', '!']\n"
     ]
    }
   ],
   "source": [
    "# import tokenizer\n",
    "from nltk import word_tokenize\n",
    "# A sentence as an example:Divide text into words or sentences\n",
    "sent = \"I would like to walk more and more to  keep walking all the time improve my health and stay healthy and safe!\"\n",
    "print(word_tokenize(sent))"
   ]
  },
  {
   "cell_type": "markdown",
   "id": "78e03673",
   "metadata": {},
   "source": [
    "**<p style=\"font-family: Arial; font-size:1.4em;color:blue;\">Exercise: Tokenization  </p>**"
   ]
  },
  {
   "cell_type": "code",
   "execution_count": 95,
   "id": "fcb01790",
   "metadata": {},
   "outputs": [],
   "source": [
    "# Tokenization:\n"
   ]
  },
  {
   "cell_type": "code",
   "execution_count": 97,
   "id": "510317ec",
   "metadata": {},
   "outputs": [
    {
     "name": "stdout",
     "output_type": "stream",
     "text": [
      "['I', 'was', 'interested', 'in', 'eating', 'icecream', ',', 'but', 'it', 'was', 'raining', ',', 'so', 'I', 'could', 'not', 'eat', '!']\n"
     ]
    }
   ],
   "source": [
    "# import tokenizer\n",
    "from nltk import word_tokenize\n",
    "# A sentence as an example:Divide text into words or sentences\n",
    "sent1 = \"I was interested in eating icecream, but it was raining , so I could not eat !\"\n",
    "print(word_tokenize(sent1))"
   ]
  },
  {
   "cell_type": "markdown",
   "id": "7f2edfec",
   "metadata": {},
   "source": [
    "### Stop-words"
   ]
  },
  {
   "cell_type": "code",
   "execution_count": 33,
   "id": "2f6482e8",
   "metadata": {},
   "outputs": [
    {
     "name": "stdout",
     "output_type": "stream",
     "text": [
      "This is the unclean version: ['I', 'would', 'like', 'to', 'walk', 'more', 'and', 'more', 'to', 'keep', 'walking', 'all', 'the', 'time', 'improve', 'my', 'health', 'and', 'stay', 'healthy', 'and', 'safe', '!']\n",
      "This is the cleaned version: ['I', 'would', 'like', 'walk', 'keep', 'walking', 'time', 'improve', 'health', 'stay', 'healthy', 'safe', '!']\n"
     ]
    }
   ],
   "source": [
    "# removing stop words from the text input\n",
    "from nltk.corpus import stopwords \n",
    "stop_words = stopwords.words('english')  \n",
    "token = word_tokenize(sent)\n",
    "cleaned_token = []\n",
    "for word in token:\n",
    "    if word not in stop_words:\n",
    "        cleaned_token.append(word)\n",
    "print(\"This is the unclean version:\", token)\n",
    "print(\"This is the cleaned version:\", cleaned_token)"
   ]
  },
  {
   "cell_type": "markdown",
   "id": "b4432169",
   "metadata": {},
   "source": [
    "**<p style=\"font-family: Arial; font-size:1.4em;color:blue;\">Exercise: Stop-words  </p>**"
   ]
  },
  {
   "cell_type": "code",
   "execution_count": 36,
   "id": "66bee4ba",
   "metadata": {},
   "outputs": [],
   "source": [
    "# removing stop words from the text input\n"
   ]
  },
  {
   "cell_type": "code",
   "execution_count": 38,
   "id": "169154d6",
   "metadata": {},
   "outputs": [
    {
     "name": "stdout",
     "output_type": "stream",
     "text": [
      "This is the unclean version: ['I', 'was', 'interested', 'in', 'eating', 'icecream', ',', 'but', 'it', 'was', 'raining', ',', 'so', 'I', 'could', 'not', 'eat', '!']\n",
      "This is the cleaned version: ['I', 'interested', 'eating', 'icecream', ',', 'raining', ',', 'I', 'could', 'eat', '!']\n"
     ]
    }
   ],
   "source": [
    "from nltk.corpus import stopwords \n",
    "stop_words = stopwords.words('english')  \n",
    "token = word_tokenize(sent1)\n",
    "cleaned_token = []\n",
    "for word in token:\n",
    "    if word not in stop_words:\n",
    "        cleaned_token.append(word)\n",
    "print(\"This is the unclean version:\", token)\n",
    "print(\"This is the cleaned version:\", cleaned_token)"
   ]
  },
  {
   "cell_type": "markdown",
   "id": "b51826e6",
   "metadata": {},
   "source": [
    "### Convert Text into lower case:"
   ]
  },
  {
   "cell_type": "code",
   "execution_count": 41,
   "id": "f247a9fd",
   "metadata": {},
   "outputs": [
    {
     "name": "stdout",
     "output_type": "stream",
     "text": [
      "i would like to walk more and more to  keep walking all the time improve my health and stay healthy and safe!\n"
     ]
    }
   ],
   "source": [
    "# converting the text into a common case\n",
    "lower_sent = sent.lower()\n",
    "print (lower_sent)"
   ]
  },
  {
   "cell_type": "markdown",
   "id": "1ab26f3d",
   "metadata": {},
   "source": [
    "**<p style=\"font-family: Arial; font-size:1.4em;color:blue;\">Exercise: Common Case  </p>**"
   ]
  },
  {
   "cell_type": "code",
   "execution_count": 44,
   "id": "65544c7f",
   "metadata": {},
   "outputs": [],
   "source": [
    "# Convert into lower case:\n"
   ]
  },
  {
   "cell_type": "code",
   "execution_count": 46,
   "id": "332457c6",
   "metadata": {},
   "outputs": [
    {
     "name": "stdout",
     "output_type": "stream",
     "text": [
      "i was interested in eating icecream, but it was raining , so i could not eat !\n"
     ]
    }
   ],
   "source": [
    "# converting the text into a common case\n",
    "lower_sent1 = sent1.lower()\n",
    "print (lower_sent1)"
   ]
  },
  {
   "cell_type": "markdown",
   "id": "781bb5b1",
   "metadata": {},
   "source": [
    "### Lemmatization"
   ]
  },
  {
   "cell_type": "code",
   "execution_count": 49,
   "id": "f474d2c3",
   "metadata": {},
   "outputs": [
    {
     "name": "stdout",
     "output_type": "stream",
     "text": [
      "['I', 'would', 'like', 'to', 'walk', 'more', 'and', 'more', 'to', 'keep', 'walking', 'all', 'the', 'time', 'improve', 'my', 'health', 'and', 'stay', 'healthy', 'and', 'safe', '!']\n"
     ]
    }
   ],
   "source": [
    "# import the lemmatizer\n",
    "from nltk.stem import WordNetLemmatizer\n",
    "nltk.download('wordnet', quiet=True)\n",
    "nltk.download('omw-1.4', quiet=True)\n",
    "stopword = stopwords.words('english')\n",
    "wordnet_lemmatizer = WordNetLemmatizer()\n",
    "word_tokens = nltk.word_tokenize(sent)\n",
    "lemmatized_word = [wordnet_lemmatizer.lemmatize(word) for word in word_tokens]\n",
    "print (lemmatized_word)"
   ]
  },
  {
   "cell_type": "markdown",
   "id": "0b349995",
   "metadata": {},
   "source": [
    "**<p style=\"font-family: Arial; font-size:1.4em;color:blue;\">Exercise: Lemmatization  </p>**"
   ]
  },
  {
   "cell_type": "code",
   "execution_count": 51,
   "id": "867d1aa9",
   "metadata": {},
   "outputs": [],
   "source": [
    "# import the lemmatizer\n"
   ]
  },
  {
   "cell_type": "code",
   "execution_count": 54,
   "id": "476e78a4",
   "metadata": {},
   "outputs": [
    {
     "name": "stdout",
     "output_type": "stream",
     "text": [
      "['I', 'wa', 'interested', 'in', 'eating', 'icecream', ',', 'but', 'it', 'wa', 'raining', ',', 'so', 'I', 'could', 'not', 'eat', '!']\n"
     ]
    }
   ],
   "source": [
    "from nltk.stem import WordNetLemmatizer\n",
    "stopword = stopwords.words('english')\n",
    "wordnet_lemmatizer = WordNetLemmatizer()\n",
    "word_tokens = nltk.word_tokenize(sent1)\n",
    "lemmatized_word = [wordnet_lemmatizer.lemmatize(word) for word in word_tokens]\n",
    "print (lemmatized_word)"
   ]
  },
  {
   "cell_type": "markdown",
   "id": "deb54a57",
   "metadata": {},
   "source": [
    "### Word Frequency"
   ]
  },
  {
   "cell_type": "code",
   "execution_count": 57,
   "id": "4dfa8ab8",
   "metadata": {},
   "outputs": [
    {
     "name": "stdout",
     "output_type": "stream",
     "text": [
      "[('and', 3), ('to', 2), ('more', 2), ('i', 1), ('would', 1)]\n"
     ]
    }
   ],
   "source": [
    "# Counting the frequency of words in the sentence\n",
    "from nltk import FreqDist\n",
    "word = nltk.word_tokenize(sent.lower())\n",
    "freq = FreqDist(word)\n",
    "print (freq.most_common(5))"
   ]
  },
  {
   "cell_type": "markdown",
   "id": "ccfbd799",
   "metadata": {},
   "source": [
    "**<p style=\"font-family: Arial; font-size:1.4em;color:blue;\">Exercise: Word Frequency  </p>**"
   ]
  },
  {
   "cell_type": "code",
   "execution_count": 60,
   "id": "370d6573",
   "metadata": {},
   "outputs": [],
   "source": [
    "# Counting the frequency of words in the sentence"
   ]
  },
  {
   "cell_type": "code",
   "execution_count": 62,
   "id": "3e1f9768",
   "metadata": {},
   "outputs": [
    {
     "name": "stdout",
     "output_type": "stream",
     "text": [
      "[('i', 2), ('was', 2), (',', 2), ('interested', 1), ('in', 1)]\n"
     ]
    }
   ],
   "source": [
    "from nltk import FreqDist\n",
    "word = nltk.word_tokenize(sent1.lower())\n",
    "freq = FreqDist(word)\n",
    "print (freq.most_common(5))"
   ]
  },
  {
   "cell_type": "markdown",
   "id": "ab3cd5ce",
   "metadata": {},
   "source": [
    "### Tagging Parts-of-speech"
   ]
  },
  {
   "cell_type": "code",
   "execution_count": 65,
   "id": "7869d54c",
   "metadata": {},
   "outputs": [],
   "source": [
    "# Attaching Parts- of-speech to each of the words in the sentence"
   ]
  },
  {
   "cell_type": "code",
   "execution_count": 67,
   "id": "12127447",
   "metadata": {},
   "outputs": [
    {
     "name": "stdout",
     "output_type": "stream",
     "text": [
      "[('I', 'PRP'), ('interested', 'VBD'), ('eating', 'VBG'), ('icecream', 'NN'), (',', ','), ('raining', 'VBG'), (',', ','), ('I', 'PRP'), ('could', 'MD'), ('eat', 'VB'), ('!', '.')]\n"
     ]
    }
   ],
   "source": [
    "from nltk import pos_tag \n",
    "nltk.download('averaged_perceptron_tagger', quiet=True)\n",
    "token = word_tokenize(sent)\n",
    "tagged = pos_tag(cleaned_token)                 \n",
    "print(tagged)"
   ]
  },
  {
   "cell_type": "markdown",
   "id": "4ba2b063",
   "metadata": {},
   "source": [
    "**<p style=\"font-family: Arial; font-size:1.4em;color:blue;\">Exercise: Parts of speech  </p>**"
   ]
  },
  {
   "cell_type": "code",
   "execution_count": 70,
   "id": "53e9b49f",
   "metadata": {},
   "outputs": [],
   "source": [
    "# Attaching Parts- of-speech to each of the words in the sentence\n"
   ]
  },
  {
   "cell_type": "code",
   "execution_count": 72,
   "id": "6707c6a8",
   "metadata": {},
   "outputs": [
    {
     "name": "stdout",
     "output_type": "stream",
     "text": [
      "[('I', 'PRP'), ('interested', 'VBD'), ('eating', 'VBG'), ('icecream', 'NN'), (',', ','), ('raining', 'VBG'), (',', ','), ('I', 'PRP'), ('could', 'MD'), ('eat', 'VB'), ('!', '.')]\n"
     ]
    }
   ],
   "source": [
    "from nltk import pos_tag \n",
    "token = word_tokenize(sent1)\n",
    "tagged = pos_tag(cleaned_token)                 \n",
    "print(tagged)"
   ]
  }
 ],
 "metadata": {
  "kernelspec": {
   "display_name": "Python 3 (ipykernel)",
   "language": "python",
   "name": "python3"
  },
  "language_info": {
   "codemirror_mode": {
    "name": "ipython",
    "version": 3
   },
   "file_extension": ".py",
   "mimetype": "text/x-python",
   "name": "python",
   "nbconvert_exporter": "python",
   "pygments_lexer": "ipython3",
   "version": "3.12.4"
  },
  "toc": {
   "base_numbering": 1,
   "nav_menu": {},
   "number_sections": true,
   "sideBar": true,
   "skip_h1_title": false,
   "title_cell": "Table of Contents",
   "title_sidebar": "Contents",
   "toc_cell": false,
   "toc_position": {},
   "toc_section_display": true,
   "toc_window_display": true
  }
 },
 "nbformat": 4,
 "nbformat_minor": 5
}
