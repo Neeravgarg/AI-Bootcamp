{
 "cells": [
  {
   "cell_type": "markdown",
   "id": "d05599b6-372c-4249-aca4-73fb763d741d",
   "metadata": {},
   "source": [
    "<font size=\"+3\">Text Processing</font>"
   ]
  },
  {
   "cell_type": "markdown",
   "id": "2dd21756-1acc-425e-be2c-eabefa4f66c6",
   "metadata": {},
   "source": [
    "### Import NLTK"
   ]
  },
  {
   "cell_type": "code",
   "execution_count": 3,
   "id": "98305e6c-ca90-4839-a361-6d463c19193a",
   "metadata": {},
   "outputs": [
    {
     "name": "stderr",
     "output_type": "stream",
     "text": [
      "[nltk_data] Error loading download all: Package 'download all' not\n",
      "[nltk_data]     found in index\n"
     ]
    },
    {
     "data": {
      "text/plain": [
       "False"
      ]
     },
     "execution_count": 3,
     "metadata": {},
     "output_type": "execute_result"
    }
   ],
   "source": [
    "import nltk\n",
    "import warnings\n",
    "warnings.filterwarnings(\"ignore\")\n",
    "nltk.download('download all')"
   ]
  },
  {
   "cell_type": "markdown",
   "id": "ace21ed5-7566-4e86-8393-a9c63c3ca0b7",
   "metadata": {},
   "source": [
    "### Input"
   ]
  },
  {
   "cell_type": "code",
   "execution_count": 5,
   "id": "022aa528-6489-4a56-9278-7cca5ceabc10",
   "metadata": {},
   "outputs": [
    {
     "name": "stdout",
     "output_type": "stream",
     "text": [
      "Neerav is a good and intelligent boy .\n"
     ]
    }
   ],
   "source": [
    "# input of the statement\n",
    "line = 'Neerav is a good and intelligent boy .'\n",
    "print(line)"
   ]
  },
  {
   "cell_type": "markdown",
   "id": "8bc693c2-c78b-4c3a-980f-d887693f7b24",
   "metadata": {},
   "source": [
    "### Tokenization"
   ]
  },
  {
   "cell_type": "code",
   "execution_count": 7,
   "id": "93f29aad-cb9f-43ae-a2ef-f6e16ae99925",
   "metadata": {},
   "outputs": [
    {
     "name": "stdout",
     "output_type": "stream",
     "text": [
      "['Neerav', 'is', 'a', 'good', 'and', 'intelligent', 'boy', '.']\n"
     ]
    }
   ],
   "source": [
    "from nltk import word_tokenize\n",
    "token_line = word_tokenize(line)\n",
    "print(token_line)"
   ]
  },
  {
   "cell_type": "markdown",
   "id": "faf7fef3-81ac-4265-ba5c-c54e9366407f",
   "metadata": {},
   "source": [
    "### Stop Words"
   ]
  },
  {
   "cell_type": "code",
   "execution_count": 9,
   "id": "fe3037fc-4592-4e8e-8637-133f34df6d66",
   "metadata": {},
   "outputs": [
    {
     "name": "stdout",
     "output_type": "stream",
     "text": [
      "['Neerav', 'good', 'intelligent', 'boy', '.']\n"
     ]
    }
   ],
   "source": [
    "from nltk.corpus import stopwords\n",
    "stop_words = stopwords.words('english')\n",
    "cleaned_token = []\n",
    "for word in token_line:\n",
    "    if word not in stop_words:\n",
    "        cleaned_token.append(word)\n",
    "print(cleaned_token)"
   ]
  },
  {
   "cell_type": "markdown",
   "id": "34454f9b-73a6-4faa-9867-646c3038188f",
   "metadata": {},
   "source": [
    "### Lower Casing"
   ]
  },
  {
   "cell_type": "code",
   "execution_count": 22,
   "id": "a8c628b3-5a38-4d99-aad0-e7fc35bab986",
   "metadata": {},
   "outputs": [
    {
     "name": "stdout",
     "output_type": "stream",
     "text": [
      "['neerav', 'good', 'intelligent', 'boy', '.']\n"
     ]
    }
   ],
   "source": [
    "lower_token = []\n",
    "for word in cleaned_token:\n",
    "    lower_token.append(word.lower())\n",
    "print(lower_token)"
   ]
  },
  {
   "cell_type": "code",
   "execution_count": 24,
   "id": "0a8a5e89-836d-4b63-8739-15d6c8aa21e7",
   "metadata": {},
   "outputs": [],
   "source": [
    "from nltk.stem import WordNetLemmatizer\n",
    "lemmatizer = WordnetLemmatizer()\n"
   ]
  },
  {
   "cell_type": "code",
   "execution_count": null,
   "id": "ae1d94aa-d983-424b-9911-1e4fe6d803b2",
   "metadata": {},
   "outputs": [],
   "source": [
    "lemmatized_word = [wordnet_lemmatizer.lemmatize(word) for word in word_tokens]\n",
    "print (lemmatized_word)"
   ]
  }
 ],
 "metadata": {
  "kernelspec": {
   "display_name": "Python 3 (ipykernel)",
   "language": "python",
   "name": "python3"
  },
  "language_info": {
   "codemirror_mode": {
    "name": "ipython",
    "version": 3
   },
   "file_extension": ".py",
   "mimetype": "text/x-python",
   "name": "python",
   "nbconvert_exporter": "python",
   "pygments_lexer": "ipython3",
   "version": "3.12.4"
  }
 },
 "nbformat": 4,
 "nbformat_minor": 5
}
